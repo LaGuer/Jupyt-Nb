{
 "cells": [
  {
   "cell_type": "markdown",
   "metadata": {},
   "source": [
    "# Mathematical and Physical Constants ratios found in micro physics and Cosmology 2019\n",
    "## PhysicalConstants\n",
    "-\n",
    "- using EgyptianFractions\n",
    "-\n",
    "- using PhysConsts\n",
    "-\n",
    "- using PhysicalConstants.CODATA2019\n",
    "-\n",
    "-\n",
    "## Pre-requisite\n",
    "- Install Python 3.6, \n",
    "- Before you install python 3.6, make sure you install all the libraries required for python.\n",
    "```\n",
    "$ sudo apt-get install build-essential checkinstall \n",
    "$ sudo apt-get install libreadline-gplv2-dev libncursesw5-dev libssl-dev libsqlite3-dev tk-dev libgdbm-dev libc6-dev libbz2-dev\n",
    "```\n",
    "\n",
    "- Julia 1.0,  \n",
    "- Jupyter-Notebook\n",
    "\n",
    "## Formulas\n",
    "-\n",
    "-\n",
    "## check julia packages\n",
    "- import Pkg; Pkg.status()\n",
    "-\n",
    "## Install\n",
    "- import Pkg; Pkg.add(\"EgyptianFractions\")\n",
    "-\n",
    "## Run Python in julia\n",
    "- Run Python inside IJulia notebook\n",
    "\n",
    "    - Using PyCall\n",
    "\n",
    "    - It's not really running python code in the context you want, but you can also use Python libraries from within Julia:\n",
    "```\n",
    "using PyCall\n",
    "using Unitful\n",
    "using Measurements\n",
    "using Cosmology\n",
    "using PhysConsts\n",
    "@pyimport math\n",
    "println(math.pi)\n",
    "```\n",
    "    - ref https://github.com/stevengj/PyCall.jl\n"
   ]
  },
  {
   "cell_type": "code",
   "execution_count": 1,
   "metadata": {},
   "outputs": [],
   "source": [
   "using Unitful\n",
   "using Measurements\n",
   "using Cosmology\n",
   "using PyCall\n",
   "@pyimport math\n",
   "println(math.pi)\n"
   ]
  },
    {
   "cell_type": "markdown",
   "metadata": {},
   "source": [
    "This notebook is a preview demo of **IJulia**: a [Julia-language](http://julialang.org/) backend combined with the [IPython](http://ipython.org/) interactive environment.   This combination allows you to interact with the Julia language using IPython's powerful [graphical notebook](http://ipython.org/notebook.html), which combines code, formatted text, math, and multimedia in a single document.\n",
    "\n",
    "* Note: this is a *preview*, because it relies on pre-release bleeding-edge versions of Julia, IPython, and several Julia packages, as explained on the [IJulia github page](https://github.com/JuliaLang/IJulia.jl), and functionality is evolving rapidly.  We hope to have a more polished release soon.\n",
    "\n"
   ]
  },
  {
   "cell_type": "markdown",
   "metadata": {},
   "source": [
    "## Basic Julia interaction"
   ]
  },
  {
   "cell_type": "markdown",
   "metadata": {},
   "source": [
    "Basic mathematical expressions work like you expect:"
   ]
  },
  {
   "cell_type": "code",
   "execution_count": null,
   "metadata": {
    "collapsed": true
   },
   "outputs": [],
   "source": [
    "1 + sin(3)"
   ]
  },
  {
   "cell_type": "markdown",
   "metadata": {},
   "source": [
    "You can define variables, write loops, and execute arbitrary multiline code blocks.  Here is an example of an alternating harmonic series $\\sum_{n=1}^\\infty \\frac{(-1)^n}{n}$ from a [Julia tutorial by Homer Reid](http://homerreid.ath.cx/teaching/18.330/JuliaProgramming.shtml#SimplePrograms):"
   ]
  },
  {
   "cell_type": "code",
   "execution_count": null,
   "metadata": {
    "collapsed": true
   },
   "outputs": [],
   "source": [
    "s = 0.0\n",
    "for n = 1:2:10000\n",
    "    s += 1/n - 1/(n+1)\n",
    "end\n",
    "s # an expression on the last line (if it doesn't end with \";\") is printed as \"Out\""
   ]
  },
  {
   "cell_type": "markdown",
   "metadata": {},
   "source": [
    "Previous outputs can be referred to via `Out[`*n*`]`, following the IPython, for example `Out[2]` for the result above.  You can also use the shorthand `_2`, or `_` for the previous result, as in IPython.  Like in Matlab, `ans` can also be used to refer to the previous result, *even if it was not printed* (when the command ended with `;`).\n",
    "\n",
    "For example, the harmonic series above should be converging (slowly) to $\\ln 2$, and we can check this:"
   ]
  },
  {
   "cell_type": "code",
   "execution_count": null,
   "metadata": {
    "collapsed": true
   },
   "outputs": [],
   "source": [
    "Out[2] - log(2)"
   ]
  },
  {
   "cell_type": "code",
   "execution_count": 2,
   "metadata": {},
   "outputs": [],
   "source": [
   "println(math.e^128)\n"
   ]
  },
  {
   "cell_type": "code",
   "execution_count": 3,
   "metadata": {},
   "outputs": [],
   "source": [
   "using PhysConsts\n",
   "α.quantity\n"
   ]
  },
  {
   "cell_type": "code",
   "execution_count": 4,
   "metadata": {},
   "outputs": [],
   "source": [
   "big((α.value)^-1)\n"
   ]
  },
  {
   "cell_type": "code",
   "execution_count": 5,
   "metadata": {},
   "outputs": [],
   "source": [
   "big(log((α.value)^-1))\n"
   ]
  },
  {
   "cell_type": "code",
   "execution_count": 6,
   "metadata": {},
   "outputs": [],
   "source": [
   "big(math.exp(699))\n"
   ]
  },
  {
   "cell_type": "code",
   "execution_count": 18,
   "metadata": {},
   "outputs": [
    {
     "name": "stdout",
     "output_type": "stream",
     "text": [
      "\u001b[32m\u001b[1m    Status\u001b[22m\u001b[39m `~/.julia/environments/v1.0/Project.toml`\n",
      " \u001b[90m [8f4d0f93]\u001b[39m\u001b[37m Conda v1.1.1\u001b[39m\n",
      " \u001b[90m [76746363]\u001b[39m\u001b[37m Cosmology v0.4.0\u001b[39m\n",
      " \u001b[90m [7073ff75]\u001b[39m\u001b[37m IJulia v1.14.1\u001b[39m\n",
      " \u001b[90m [22bc3fda]\u001b[39m\u001b[37m PhysicalConstants v0.0.0 #master (https://github.com/JuliaPhysics/PhysicalConstants.jl)\u001b[39m\n",
      " \u001b[90m [438e738f]\u001b[39m\u001b[37m PyCall v1.18.5\u001b[39m\n",
      " \u001b[90m [276daf66]\u001b[39m\u001b[37m SpecialFunctions v0.7.2\u001b[39m\n"
     ]
    }
   ],
   "source": [
    "import Pkg; Pkg.status()"
   ]
  },
  {
   "cell_type": "code",
   "execution_count": 19,
   "metadata": {},
   "outputs": [],
   "source": [
    "using PhysConsts.DATA"
   ]
  },
  {
   "cell_type": "code",
   "execution_count": 4,
   "metadata": {},
   "outputs": [
    {
     "data": {
      "text/plain": [
       "Speed of light in vacuum (c)\n",
       "Value                         = 2.99792458e8 m s^-1\n",
       "Standard uncertainty          = (exact)\n",
       "Relative standard uncertainty = (exact)\n",
       "Reference                     = CODATA 2019"
      ]
     },
     "execution_count": 4,
     "metadata": {},
     "output_type": "execute_result"
    }
   ],
   "source": [
    "c.quantity"
   ]
  },
  {
   "cell_type": "code",
   "execution_count": 20,
   "metadata": {},
   "outputs": [
    {
     "data": {
      "text/plain": [
       "Bohr radius (a_0)\n",
       "Value                         = 5.2917721067e-11 m\n",
       "Standard uncertainty          = 1.2e-20 m\n",
       "Relative standard uncertainty = 2.3e-10\n",
       "Reference                     = CODATA 2019"
      ]
     },
     "execution_count": 20,
     "metadata": {},
     "output_type": "execute_result"
    }
   ],
   "source": [
    "a_0"
   ]
  },
  {
   "cell_type": "code",
   "execution_count": 5,
   "metadata": {},
   "outputs": [
    {
     "data": {
      "text/plain": [
       "Newtonian constant of gravitation (Gg)\n",
       "Value                         = 6.67408e-11 m^3 kg^-1 s^-2\n",
       "Standard uncertainty          = 3.1e-15 m^3 kg^-1 s^-2\n",
       "Relative standard uncertainty = 4.6e-5\n",
       "Reference                     = CODATA 2019"
      ]
     },
     "execution_count": 5,
     "metadata": {},
     "output_type": "execute_result"
    }
   ],
   "source": [
    "G"
   ]
  },
  {
   "cell_type": "code",
   "execution_count": 21,
   "metadata": {},
   "outputs": [
    {
     "data": {
      "text/plain": [
       "Proton mass (m_p)\n",
       "Value                         = 1.672621898e-27 kg\n",
       "Standard uncertainty          = 2.1e-35 kg\n",
       "Relative standard uncertainty = 1.3e-8\n",
       "Reference                     = CODATA 2019"
      ]
     },
     "execution_count": 21,
     "metadata": {},
     "output_type": "execute_result"
    }
   ],
   "source": [
    "m_p.quantity"
   ]
  },
  {
   "cell_type": "code",
   "execution_count": 24,
   "metadata": {},
   "outputs": [
    {
     "ename": "LoadError",
     "evalue": "syntax: \"\\\" is not a unary operator",
     "output_type": "error",
     "traceback": [
      "syntax: \"\\\" is not a unary operator",
      ""
     ]
    }
   ],
   "source": [
    "h.value\n"
   ]
  }
 ],
 "metadata": {
  "kernelspec": {
   "display_name": "Julia 1.0.2",
   "language": "julia",
   "name": "julia-1.0"
  },
  "language_info": {
   "file_extension": ".jl",
   "mimetype": "application/julia",
   "name": "julia",
   "version": "1.0.2"
  }
 },
 "nbformat": 4,
 "nbformat_minor": 2
}
